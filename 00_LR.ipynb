{
  "nbformat": 4,
  "nbformat_minor": 0,
  "metadata": {
    "colab": {
      "provenance": [],
      "authorship_tag": "ABX9TyNAESZ6K7r0f0lsE5szTDsZ",
      "include_colab_link": true
    },
    "kernelspec": {
      "name": "python3",
      "display_name": "Python 3"
    },
    "language_info": {
      "name": "python"
    }
  },
  "cells": [
    {
      "cell_type": "markdown",
      "metadata": {
        "id": "view-in-github",
        "colab_type": "text"
      },
      "source": [
        "<a href=\"https://colab.research.google.com/github/ramiteno/ML/blob/main/00_LR.ipynb\" target=\"_parent\"><img src=\"https://colab.research.google.com/assets/colab-badge.svg\" alt=\"Open In Colab\"/></a>"
      ]
    },
    {
      "cell_type": "markdown",
      "source": [
        "# Linear Regression"
      ],
      "metadata": {
        "id": "aMt6fZhXlxTV"
      }
    },
    {
      "cell_type": "code",
      "source": [
        "import torch\n",
        "from torch import nn\n",
        "import matplotlib.pyplot as plt"
      ],
      "metadata": {
        "id": "os8SxPE1mBue"
      },
      "execution_count": null,
      "outputs": []
    },
    {
      "cell_type": "code",
      "source": [
        "# Main Function\n",
        "w = 0.25\n",
        "b= 0.8\n",
        "\n",
        "X = torch.arange(1,10,0.1).unsqueeze(dim=1)\n",
        "Y = w * X + b"
      ],
      "metadata": {
        "id": "RckwmWhpmRF6"
      },
      "execution_count": null,
      "outputs": []
    },
    {
      "cell_type": "code",
      "source": [
        "# Setting Training and Test data\n",
        "tr_set = 0.8\n",
        "\n",
        "X_tr, Y_tr = X[:int(tr_set*len(X))], Y[:int(tr_set*len(Y))]\n",
        "X_test, Y_test = X[int(tr_set*len(X)):], Y[int(tr_set*len(Y)):]"
      ],
      "metadata": {
        "id": "YjBuICpPnI8h"
      },
      "execution_count": null,
      "outputs": []
    },
    {
      "cell_type": "code",
      "source": [
        "# Defining NN model\n",
        "class LinearRegression(nn.Module):\n",
        "    def __init__(self):\n",
        "      super().__init__()\n",
        "\n",
        "      self.w = nn.Parameter(torch.randn(1, requires_grad=True, dtype=float))\n",
        "      self.b = nn.Parameter(torch.randn(1, requires_grad=True, dtype=float))\n",
        "\n",
        "    def forward(self, x: torch.Tensor) -> torch.Tensor:\n",
        "      return self.w * x + self.b\\\n",
        "    \n",
        "    def __str__(self):\n",
        "      return \"Weight: %f\\nBias: %f\"%(self.w,self.b)"
      ],
      "metadata": {
        "id": "D1I9OajqoMZ2"
      },
      "execution_count": null,
      "outputs": []
    },
    {
      "cell_type": "code",
      "source": [
        "# Defining Plot\n",
        "def plotter(X_train,Y_train,X_test,Y_test,Y_pred=None):\n",
        "  plt.figure(figsize=(10,7))\n",
        "  plot_size = 2\n",
        "\n",
        "  plt.scatter(X_train,Y_train,c='b',s=plot_size,label=\"Training data\")\n",
        "  plt.scatter(X_test,Y_test,c='g',s=plot_size,label=\"Test data\")\n",
        "\n",
        "  if Y_pred is not None:\n",
        "    plt.scatter(X_test,Y_pred,c='r',s=plot_size,label=\"Prediction data\")\n",
        "\n",
        "  plt.legend(prop={\"size\": 12});"
      ],
      "metadata": {
        "id": "8OPl_V6cpgpn"
      },
      "execution_count": null,
      "outputs": []
    },
    {
      "cell_type": "code",
      "source": [
        "# Training Model\n",
        "model = LinearRegression()\n",
        "# list(model.parameters())\n",
        "model.state_dict()"
      ],
      "metadata": {
        "colab": {
          "base_uri": "https://localhost:8080/"
        },
        "id": "krQ4Z8fnrByj",
        "outputId": "2e2fdb5f-11e6-4faf-d143-f801b2afa612"
      },
      "execution_count": null,
      "outputs": [
        {
          "output_type": "execute_result",
          "data": {
            "text/plain": [
              "OrderedDict([('w', tensor([1.3221], dtype=torch.float64)),\n",
              "             ('b', tensor([0.8172], dtype=torch.float64))])"
            ]
          },
          "metadata": {},
          "execution_count": 198
        }
      ]
    },
    {
      "cell_type": "code",
      "source": [
        "# Before Training\n",
        "with torch.inference_mode():\n",
        "  Y_prd = model(X_test)\n",
        "\n",
        "# Y_prd\n",
        "plotter(X_tr,Y_tr,X_test,Y_test,Y_prd)\n",
        "\n",
        "print(model), print(f\"W: {w} b: {b}\")"
      ],
      "metadata": {
        "colab": {
          "base_uri": "https://localhost:8080/",
          "height": 502
        },
        "id": "I6ysWTDkrqSx",
        "outputId": "0fabc183-94c7-475f-949d-7ec0891922b9"
      },
      "execution_count": null,
      "outputs": [
        {
          "output_type": "stream",
          "name": "stdout",
          "text": [
            "Weight: 1.322135\n",
            "Bias: 0.817190\n",
            "W: 0.25 b: 0.8\n"
          ]
        },
        {
          "output_type": "execute_result",
          "data": {
            "text/plain": [
              "(None, None)"
            ]
          },
          "metadata": {},
          "execution_count": 199
        },
        {
          "output_type": "display_data",
          "data": {
            "text/plain": [
              "<Figure size 720x504 with 1 Axes>"
            ],
            "image/png": "[encoded data removed]"
          },
          "metadata": {
            "needs_background": "light"
          }
        }
      ]
    },
    {
      "cell_type": "code",
      "source": [
        "# After Training\n",
        "loss_fn = nn.L1Loss()\n",
        "# loss_fn = nn.MSELoss()\n",
        "\n",
        "epoch_count = []\n",
        "train_loss_count = []\n",
        "test_loss_count = []\n",
        "\n",
        "opt_fn = torch.optim.SGD(params=model.parameters(),lr = 0.01)\n",
        "\n",
        "# torch.manual_seed(42)\n",
        "\n",
        "epochs = 100\n",
        "\n",
        "for epoch in range(epochs):\n",
        "  model.train()\n",
        "\n",
        "  # 1. Forward pass (forward propagation)\n",
        "  Y_prd = model(X_tr)\n",
        "\n",
        "  # 2. Calculate the loss\n",
        "  Loss = loss_fn(Y_prd, Y_tr)\n",
        "  # print(f\"Loss: {Loss}\")\n",
        "\n",
        "  # 3. Optimizer zero grad\n",
        "  opt_fn.zero_grad()\n",
        "\n",
        "  # 4. Loss backward (backpropagation)\n",
        "  Loss.backward()\n",
        "\n",
        "  # 5. Adjust model (gradient descent)\n",
        "  opt_fn.step()\n",
        "\n",
        "  # Turns off different settings in the model not needed for evaluation/testing (dropout)\n",
        "  model.eval()\n",
        "\n",
        "  # Turns off gradient tracking\n",
        "  with torch.inference_mode():\n",
        "  # with torch.no_grad():\n",
        "    Y_prd = model(X_test)\n",
        "\n",
        "  Loss_ = loss_fn(Y_prd, Y_test)\n",
        "\n",
        "  if epoch % 10 == 0:\n",
        "    epoch_count.append(epoch)\n",
        "    train_loss_count.append(Loss.detach().cpu().numpy())\n",
        "    test_loss_count.append(Loss_.detach().cpu().numpy())\n",
        "\n",
        "    print(f\"Epoch: {epoch} | Train Loss: {Loss} | Test Loss: {Loss_}\")\n",
        "\n",
        "plotter(X_tr,Y_tr,X_test,Y_test,Y_prd)\n",
        "print(model), print(f\"W: {w} b: {b}\")"
      ],
      "metadata": {
        "colab": {
          "base_uri": "https://localhost:8080/",
          "height": 686
        },
        "id": "7d7ifx4svhWK",
        "outputId": "ef465965-1167-4769-888d-247027ac6d10"
      },
      "execution_count": null,
      "outputs": [
        {
          "output_type": "stream",
          "name": "stdout",
          "text": [
            "Epoch: 0 | Train Loss: 4.8954046297827 | Test Loss: 9.29823776121871\n",
            "Epoch: 10 | Train Loss: 2.7251546490681164 | Test Loss: 5.080487814147639\n",
            "Epoch: 20 | Train Loss: 0.5556029085094651 | Test Loss: 0.8685725893154509\n",
            "Epoch: 30 | Train Loss: 0.07006629086245561 | Test Loss: 0.24556146405379284\n",
            "Epoch: 40 | Train Loss: 0.05721781913433283 | Test Loss: 0.13441561681822722\n",
            "Epoch: 50 | Train Loss: 0.080391183470269 | Test Loss: 0.4031169911323086\n",
            "Epoch: 60 | Train Loss: 0.08955924149308936 | Test Loss: 0.3675739308570208\n",
            "Epoch: 70 | Train Loss: 0.052592576557239354 | Test Loss: 0.42654059392452215\n",
            "Epoch: 80 | Train Loss: 0.0500009113235498 | Test Loss: 0.41988225780680455\n",
            "Epoch: 90 | Train Loss: 0.040656467848086346 | Test Loss: 0.430226700316819\n",
            "Weight: 0.253885\n",
            "Bias: 0.718023\n",
            "W: 0.25 b: 0.8\n"
          ]
        },
        {
          "output_type": "execute_result",
          "data": {
            "text/plain": [
              "(None, None)"
            ]
          },
          "metadata": {},
          "execution_count": 200
        },
        {
          "output_type": "display_data",
          "data": {
            "text/plain": [
              "<Figure size 720x504 with 1 Axes>"
            ],
            "image/png": "[encoded data removed]"
          },
          "metadata": {
            "needs_background": "light"
          }
        }
      ]
    },
    {
      "cell_type": "code",
      "source": [
        "# Plot Epochs and loss calculation\n",
        "plt.figure(figsize=(10,7))\n",
        "plt.plot(epoch_count, train_loss_count, c=\"b\", label=\"Train Loss\")\n",
        "plt.plot(epoch_count, test_loss_count, c=\"r\", label=\"Test Loss\")\n",
        "plt.ylabel(\"Loss\")\n",
        "plt.xlabel(\"epoch\")\n",
        "plt.legend();"
      ],
      "metadata": {
        "colab": {
          "base_uri": "https://localhost:8080/",
          "height": 442
        },
        "id": "QBoThhvKaGu4",
        "outputId": "636cfad5-2d99-4e3c-8ac8-014d2fc62ccf"
      },
      "execution_count": null,
      "outputs": [
        {
          "output_type": "display_data",
          "data": {
            "text/plain": [
              "<Figure size 720x504 with 1 Axes>"
            ],
            "image/png": "[encoded data removed]"
          },
          "metadata": {
            "needs_background": "light"
          }
        }
      ]
    },
    {
      "cell_type": "code",
      "source": [
        "# Saving model\n",
        "from pathlib import Path\n",
        "\n",
        "# Model directory\n",
        "MODEL_PATH = Path(\"models\")\n",
        "MODEL_PATH.mkdir(parents = True, exist_ok = True)\n",
        "\n",
        "# Model save path\n",
        "MODEL_NAME = \"01_pytorch_model_0.pth\"\n",
        "MODEL_SAVE_PATH = MODEL_PATH / MODEL_NAME\n",
        "MODEL_SAVE_PATH\n",
        "\n",
        "# Save model\n",
        "torch.save(obj = model.state_dict(),f = MODEL_SAVE_PATH)"
      ],
      "metadata": {
        "colab": {
          "base_uri": "https://localhost:8080/"
        },
        "id": "FV_DeGFJlV5D",
        "outputId": "41907452-352a-4ab5-ea0a-1aa4197e9cb3"
      },
      "execution_count": null,
      "outputs": [
        {
          "output_type": "stream",
          "name": "stdout",
          "text": [
            "total 4\n",
            "-rw-r--r-- 1 root root 1107 Mar 21 20:21 01_pytorch_model_0.pth\n"
          ]
        }
      ]
    },
    {
      "cell_type": "code",
      "source": [
        "# Loading model\n",
        "from pathlib import Path\n",
        "\n",
        "# Load model\n",
        "loaded_model = LinearRegression()\n",
        "\n",
        "loaded_model.load_state_dict(torch.load(f = MODEL_SAVE_PATH))\n",
        "\n",
        "# print(model), print(loaded_model)"
      ],
      "metadata": {
        "colab": {
          "base_uri": "https://localhost:8080/"
        },
        "id": "x2Q4-K301i6i",
        "outputId": "49d5f0b7-1c93-428e-9f0c-8b4396460282"
      },
      "execution_count": null,
      "outputs": [
        {
          "output_type": "stream",
          "name": "stdout",
          "text": [
            "Weight: 0.253885\n",
            "Bias: 0.718023\n",
            "Weight: 0.253885\n",
            "Bias: 0.718023\n"
          ]
        },
        {
          "output_type": "execute_result",
          "data": {
            "text/plain": [
              "(None, None)"
            ]
          },
          "metadata": {},
          "execution_count": 211
        }
      ]
    },
    {
      "cell_type": "code",
      "source": [
        "!ls -l models"
      ],
      "metadata": {
        "colab": {
          "base_uri": "https://localhost:8080/"
        },
        "id": "SNccBuLZ1bBB",
        "outputId": "a6ff1db5-1644-47b9-cf5e-7a3a3b37c778"
      },
      "execution_count": null,
      "outputs": [
        {
          "output_type": "stream",
          "name": "stdout",
          "text": [
            "total 4\n",
            "-rw-r--r-- 1 root root 1107 Mar 21 20:21 01_pytorch_model_0.pth\n"
          ]
        }
      ]
    }
  ]
}